{
 "cells": [
  {
   "cell_type": "markdown",
   "metadata": {
    "editable": true
   },
   "source": [
    "# OpenSky and COVID-19 data exploration\n",
    "\n",
    "In this notebook we will do some basic exploration with OpenSky and COVID-19 data, and derive some understanding to aid us in developing a data model, and cleaning and aggregation."
   ]
  },
  {
   "cell_type": "code",
   "execution_count": 1,
   "metadata": {
    "editable": true
   },
   "outputs": [],
   "source": [
    "import pandas as pd\n",
    "import configparser\n",
    "import os\n",
    "from datetime import datetime, timedelta\n",
    "from pyspark.sql import SparkSession\n",
    "from pyspark.sql.functions import *\n",
    "from pyspark.sql.types import StringType, IntegerType\n",
    "\n",
    "config = configparser.ConfigParser()\n",
    "config.read('config.cfg')\n",
    "\n",
    "%load_ext autoreload\n",
    "%autoreload 2"
   ]
  },
  {
   "cell_type": "code",
   "execution_count": 2,
   "metadata": {
    "editable": true
   },
   "outputs": [],
   "source": [
    "# Read in the data\n",
    "spark = SparkSession \\\n",
    "        .builder \\\n",
    "        .config(\"spark.jars.packages\", \"com.amazonaws:aws-java-sdk:1.7.3,org.apache.hadoop:hadoop-aws:2.7.3\") \\\n",
    "        .getOrCreate()\n",
    "\n",
    "# Opensky dataset (Local)\n",
    "df_os_raw = spark.read.format('csv').option('header', 'true').load(config['DATA']['OPENSKY_FLIGHTS'])\n",
    "\n",
    "# Airport codes dataset (Local)\n",
    "df_airports_raw = spark.read.format('csv').option('header', 'true').load(config['DATA']['AIRPORT_CODES'])\n",
    "\n",
    "# Country codes dataset (Local)\n",
    "df_iban = spark.read.format('json').load(config['DATA']['COUNTRY_CODES'])\n",
    "\n",
    "# John Hopkins University COVID-19 dataset (Local)\n",
    "df_covid_raw = spark.read.format('json').load(config['DATA']['COVID19_CASES'])"
   ]
  },
  {
   "source": [
    "### OpenSky Dataset"
   ],
   "cell_type": "markdown",
   "metadata": {}
  },
  {
   "cell_type": "code",
   "execution_count": 3,
   "metadata": {
    "editable": true
   },
   "outputs": [
    {
     "output_type": "execute_result",
     "data": {
      "text/plain": [
       "  callsign number  icao24 registration typecode origin destination  \\\n",
       "0  SXI1963   None  7c1ace       VH-FKW      F50   YPAD        WSSL   \n",
       "1   THY183   None  4ba9c1       TC-JNA     A332   None        LTBW   \n",
       "2   CES771  MU771  781858       B-30CW     A359   YSSY        EHAM   \n",
       "3   AMX037   None  0d09e5       XA-ADC     B789   SAEZ        LEBL   \n",
       "4    ACA43   None  c0173f       C-FIUW     B77W   CYYZ        CYYZ   \n",
       "\n",
       "                   firstseen                   lastseen  \\\n",
       "0  2019-12-31 00:07:07+00:00  2020-01-01 09:01:00+00:00   \n",
       "1  2019-12-31 00:25:26+00:00  2020-01-01 07:48:41+00:00   \n",
       "2  2019-12-31 01:29:25+00:00  2020-01-01 04:08:28+00:00   \n",
       "3  2019-12-31 03:08:58+00:00  2020-01-01 10:05:29+00:00   \n",
       "4  2019-12-31 03:13:16+00:00  2020-01-01 10:25:51+00:00   \n",
       "\n",
       "                         day           latitude_1         longitude_1  \\\n",
       "0  2020-01-01 00:00:00+00:00   -34.95975300417109   138.4747123718262   \n",
       "1  2020-01-01 00:00:00+00:00   42.134523553363344   26.99328045512355   \n",
       "2  2020-01-01 00:00:00+00:00  -33.924545288085945     151.17013736647   \n",
       "3  2020-01-01 00:00:00+00:00   -34.82531014135327  -58.51850509643555   \n",
       "4  2020-01-01 00:00:00+00:00    43.69465255737305  -79.63428763456125   \n",
       "\n",
       "  altitude_1          latitude_2         longitude_2         altitude_2  \n",
       "0      609.6  1.3885345458984382  103.84919764631891             182.88  \n",
       "1     7924.8  41.147848872815146    28.7096474387429  716.2800000000003  \n",
       "2      304.8   52.31435743428893   4.765359061104911            -160.02  \n",
       "3        0.0   41.38957214355469   2.349950617009944              533.4  \n",
       "4        0.0   43.67595291137695  -79.61098959279616             259.08  "
      ],
      "text/html": "<div>\n<style scoped>\n    .dataframe tbody tr th:only-of-type {\n        vertical-align: middle;\n    }\n\n    .dataframe tbody tr th {\n        vertical-align: top;\n    }\n\n    .dataframe thead th {\n        text-align: right;\n    }\n</style>\n<table border=\"1\" class=\"dataframe\">\n  <thead>\n    <tr style=\"text-align: right;\">\n      <th></th>\n      <th>callsign</th>\n      <th>number</th>\n      <th>icao24</th>\n      <th>registration</th>\n      <th>typecode</th>\n      <th>origin</th>\n      <th>destination</th>\n      <th>firstseen</th>\n      <th>lastseen</th>\n      <th>day</th>\n      <th>latitude_1</th>\n      <th>longitude_1</th>\n      <th>altitude_1</th>\n      <th>latitude_2</th>\n      <th>longitude_2</th>\n      <th>altitude_2</th>\n    </tr>\n  </thead>\n  <tbody>\n    <tr>\n      <th>0</th>\n      <td>SXI1963</td>\n      <td>None</td>\n      <td>7c1ace</td>\n      <td>VH-FKW</td>\n      <td>F50</td>\n      <td>YPAD</td>\n      <td>WSSL</td>\n      <td>2019-12-31 00:07:07+00:00</td>\n      <td>2020-01-01 09:01:00+00:00</td>\n      <td>2020-01-01 00:00:00+00:00</td>\n      <td>-34.95975300417109</td>\n      <td>138.4747123718262</td>\n      <td>609.6</td>\n      <td>1.3885345458984382</td>\n      <td>103.84919764631891</td>\n      <td>182.88</td>\n    </tr>\n    <tr>\n      <th>1</th>\n      <td>THY183</td>\n      <td>None</td>\n      <td>4ba9c1</td>\n      <td>TC-JNA</td>\n      <td>A332</td>\n      <td>None</td>\n      <td>LTBW</td>\n      <td>2019-12-31 00:25:26+00:00</td>\n      <td>2020-01-01 07:48:41+00:00</td>\n      <td>2020-01-01 00:00:00+00:00</td>\n      <td>42.134523553363344</td>\n      <td>26.99328045512355</td>\n      <td>7924.8</td>\n      <td>41.147848872815146</td>\n      <td>28.7096474387429</td>\n      <td>716.2800000000003</td>\n    </tr>\n    <tr>\n      <th>2</th>\n      <td>CES771</td>\n      <td>MU771</td>\n      <td>781858</td>\n      <td>B-30CW</td>\n      <td>A359</td>\n      <td>YSSY</td>\n      <td>EHAM</td>\n      <td>2019-12-31 01:29:25+00:00</td>\n      <td>2020-01-01 04:08:28+00:00</td>\n      <td>2020-01-01 00:00:00+00:00</td>\n      <td>-33.924545288085945</td>\n      <td>151.17013736647</td>\n      <td>304.8</td>\n      <td>52.31435743428893</td>\n      <td>4.765359061104911</td>\n      <td>-160.02</td>\n    </tr>\n    <tr>\n      <th>3</th>\n      <td>AMX037</td>\n      <td>None</td>\n      <td>0d09e5</td>\n      <td>XA-ADC</td>\n      <td>B789</td>\n      <td>SAEZ</td>\n      <td>LEBL</td>\n      <td>2019-12-31 03:08:58+00:00</td>\n      <td>2020-01-01 10:05:29+00:00</td>\n      <td>2020-01-01 00:00:00+00:00</td>\n      <td>-34.82531014135327</td>\n      <td>-58.51850509643555</td>\n      <td>0.0</td>\n      <td>41.38957214355469</td>\n      <td>2.349950617009944</td>\n      <td>533.4</td>\n    </tr>\n    <tr>\n      <th>4</th>\n      <td>ACA43</td>\n      <td>None</td>\n      <td>c0173f</td>\n      <td>C-FIUW</td>\n      <td>B77W</td>\n      <td>CYYZ</td>\n      <td>CYYZ</td>\n      <td>2019-12-31 03:13:16+00:00</td>\n      <td>2020-01-01 10:25:51+00:00</td>\n      <td>2020-01-01 00:00:00+00:00</td>\n      <td>43.69465255737305</td>\n      <td>-79.63428763456125</td>\n      <td>0.0</td>\n      <td>43.67595291137695</td>\n      <td>-79.61098959279616</td>\n      <td>259.08</td>\n    </tr>\n  </tbody>\n</table>\n</div>"
     },
     "metadata": {},
     "execution_count": 3
    }
   ],
   "source": [
    "# OpenSky data sample\n",
    "df_os_raw.limit(5).toPandas()"
   ]
  },
  {
   "cell_type": "code",
   "execution_count": 4,
   "metadata": {},
   "outputs": [
    {
     "output_type": "stream",
     "name": "stdout",
     "text": [
      "Number of records    : 14889687\nMissing origins      :  3882199\nMissing destinations :  2846499\n"
     ]
    }
   ],
   "source": [
    "# explore some statistics from Opensky dataset\n",
    "os_num_recs = df_os_raw.count()\n",
    "os_null_origins = df_os_raw.where(col('origin').isNull()).count()\n",
    "os_null_destinations = df_os_raw.where(col('destination').isNull()).count()\n",
    "print(f\"Number of records    : {os_num_recs:8d}\")\n",
    "print(f\"Missing origins      : {os_null_origins:8d}\")\n",
    "print(f\"Missing destinations : {os_null_destinations:8d}\")"
   ]
  },
  {
   "source": [
    "### Airports Dataset"
   ],
   "cell_type": "markdown",
   "metadata": {}
  },
  {
   "cell_type": "code",
   "execution_count": 5,
   "metadata": {
    "editable": true
   },
   "outputs": [
    {
     "output_type": "execute_result",
     "data": {
      "text/plain": [
       "  ident           type                                name elevation_ft  \\\n",
       "0   00A       heliport                   Total Rf Heliport           11   \n",
       "1  00AA  small_airport                Aero B Ranch Airport         3435   \n",
       "2  00AK  small_airport                        Lowell Field          450   \n",
       "3  00AL  small_airport                        Epps Airpark          820   \n",
       "4  00AR         closed  Newport Hospital & Clinic Heliport          237   \n",
       "\n",
       "  continent iso_country iso_region  municipality gps_code iata_code  \\\n",
       "0        NA          US      US-PA      Bensalem      00A      None   \n",
       "1        NA          US      US-KS         Leoti     00AA      None   \n",
       "2        NA          US      US-AK  Anchor Point     00AK      None   \n",
       "3        NA          US      US-AL       Harvest     00AL      None   \n",
       "4        NA          US      US-AR       Newport     None      None   \n",
       "\n",
       "  local_code                            coordinates  \n",
       "0        00A     -74.93360137939453, 40.07080078125  \n",
       "1       00AA                 -101.473911, 38.704022  \n",
       "2       00AK            -151.695999146, 59.94919968  \n",
       "3       00AL  -86.77030181884766, 34.86479949951172  \n",
       "4       None                    -91.254898, 35.6087  "
      ],
      "text/html": "<div>\n<style scoped>\n    .dataframe tbody tr th:only-of-type {\n        vertical-align: middle;\n    }\n\n    .dataframe tbody tr th {\n        vertical-align: top;\n    }\n\n    .dataframe thead th {\n        text-align: right;\n    }\n</style>\n<table border=\"1\" class=\"dataframe\">\n  <thead>\n    <tr style=\"text-align: right;\">\n      <th></th>\n      <th>ident</th>\n      <th>type</th>\n      <th>name</th>\n      <th>elevation_ft</th>\n      <th>continent</th>\n      <th>iso_country</th>\n      <th>iso_region</th>\n      <th>municipality</th>\n      <th>gps_code</th>\n      <th>iata_code</th>\n      <th>local_code</th>\n      <th>coordinates</th>\n    </tr>\n  </thead>\n  <tbody>\n    <tr>\n      <th>0</th>\n      <td>00A</td>\n      <td>heliport</td>\n      <td>Total Rf Heliport</td>\n      <td>11</td>\n      <td>NA</td>\n      <td>US</td>\n      <td>US-PA</td>\n      <td>Bensalem</td>\n      <td>00A</td>\n      <td>None</td>\n      <td>00A</td>\n      <td>-74.93360137939453, 40.07080078125</td>\n    </tr>\n    <tr>\n      <th>1</th>\n      <td>00AA</td>\n      <td>small_airport</td>\n      <td>Aero B Ranch Airport</td>\n      <td>3435</td>\n      <td>NA</td>\n      <td>US</td>\n      <td>US-KS</td>\n      <td>Leoti</td>\n      <td>00AA</td>\n      <td>None</td>\n      <td>00AA</td>\n      <td>-101.473911, 38.704022</td>\n    </tr>\n    <tr>\n      <th>2</th>\n      <td>00AK</td>\n      <td>small_airport</td>\n      <td>Lowell Field</td>\n      <td>450</td>\n      <td>NA</td>\n      <td>US</td>\n      <td>US-AK</td>\n      <td>Anchor Point</td>\n      <td>00AK</td>\n      <td>None</td>\n      <td>00AK</td>\n      <td>-151.695999146, 59.94919968</td>\n    </tr>\n    <tr>\n      <th>3</th>\n      <td>00AL</td>\n      <td>small_airport</td>\n      <td>Epps Airpark</td>\n      <td>820</td>\n      <td>NA</td>\n      <td>US</td>\n      <td>US-AL</td>\n      <td>Harvest</td>\n      <td>00AL</td>\n      <td>None</td>\n      <td>00AL</td>\n      <td>-86.77030181884766, 34.86479949951172</td>\n    </tr>\n    <tr>\n      <th>4</th>\n      <td>00AR</td>\n      <td>closed</td>\n      <td>Newport Hospital &amp; Clinic Heliport</td>\n      <td>237</td>\n      <td>NA</td>\n      <td>US</td>\n      <td>US-AR</td>\n      <td>Newport</td>\n      <td>None</td>\n      <td>None</td>\n      <td>None</td>\n      <td>-91.254898, 35.6087</td>\n    </tr>\n  </tbody>\n</table>\n</div>"
     },
     "metadata": {},
     "execution_count": 5
    }
   ],
   "source": [
    "# Airports data sample\n",
    "df_airports_raw.limit(5).toPandas()"
   ]
  },
  {
   "cell_type": "code",
   "execution_count": 6,
   "metadata": {},
   "outputs": [
    {
     "output_type": "stream",
     "name": "stdout",
     "text": [
      "Number of records    :    55075\nNumber of countries  :      244\nAirport types        : large_airport, balloonport, seaplane_base, heliport, closed, medium_airport, small_airport\n"
     ]
    }
   ],
   "source": [
    "# explore statistics from airport dataset\n",
    "airports_num_recs = df_airports_raw.count()\n",
    "airport_types = df_airports_raw.select('type').distinct().toPandas()['type']\n",
    "airports_num_countries = df_airports_raw.select('iso_country').distinct().count()\n",
    "print(f\"Number of records    : {airports_num_recs:8d}\")\n",
    "print(f\"Number of countries  : {airports_num_countries:8d}\")\n",
    "print(f\"Airport types        : {', '.join(airport_types)}\")"
   ]
  },
  {
   "source": [
    "## Country IBAN Dataset"
   ],
   "cell_type": "markdown",
   "metadata": {}
  },
  {
   "cell_type": "code",
   "execution_count": 7,
   "metadata": {},
   "outputs": [
    {
     "output_type": "execute_result",
     "data": {
      "text/plain": [
       "  Code            Name\n",
       "0   AF     Afghanistan\n",
       "1   AX   Åland Islands\n",
       "2   AL         Albania\n",
       "3   DZ         Algeria\n",
       "4   AS  American Samoa"
      ],
      "text/html": "<div>\n<style scoped>\n    .dataframe tbody tr th:only-of-type {\n        vertical-align: middle;\n    }\n\n    .dataframe tbody tr th {\n        vertical-align: top;\n    }\n\n    .dataframe thead th {\n        text-align: right;\n    }\n</style>\n<table border=\"1\" class=\"dataframe\">\n  <thead>\n    <tr style=\"text-align: right;\">\n      <th></th>\n      <th>Code</th>\n      <th>Name</th>\n    </tr>\n  </thead>\n  <tbody>\n    <tr>\n      <th>0</th>\n      <td>AF</td>\n      <td>Afghanistan</td>\n    </tr>\n    <tr>\n      <th>1</th>\n      <td>AX</td>\n      <td>Åland Islands</td>\n    </tr>\n    <tr>\n      <th>2</th>\n      <td>AL</td>\n      <td>Albania</td>\n    </tr>\n    <tr>\n      <th>3</th>\n      <td>DZ</td>\n      <td>Algeria</td>\n    </tr>\n    <tr>\n      <th>4</th>\n      <td>AS</td>\n      <td>American Samoa</td>\n    </tr>\n  </tbody>\n</table>\n</div>"
     },
     "metadata": {},
     "execution_count": 7
    }
   ],
   "source": [
    "df_iban.limit(5).toPandas()"
   ]
  },
  {
   "source": [
    "### JHU COVID-19 Dataset"
   ],
   "cell_type": "markdown",
   "metadata": {}
  },
  {
   "cell_type": "code",
   "execution_count": 8,
   "metadata": {
    "editable": true
   },
   "outputs": [
    {
     "output_type": "execute_result",
     "data": {
      "text/plain": [
       "  admin2  code3  confirmed country_region        date  deaths fips iso2 iso3  \\\n",
       "0            16          0             US  2020-01-22       0   60   AS  ASM   \n",
       "1           316          0             US  2020-01-22       0   66   GU  GUM   \n",
       "2           580          0             US  2020-01-22       0   69   MP  MNP   \n",
       "3           630          0             US  2020-01-22       0   72   PR  PRI   \n",
       "4           850          0             US  2020-01-22       0   78   VI  VIR   \n",
       "\n",
       "   latitude  longitude            province_state  recovered  uid  \n",
       "0  -14.2710  -170.1320            American Samoa        NaN   16  \n",
       "1   13.4443   144.7937                      Guam        NaN  316  \n",
       "2   15.0979   145.6739  Northern Mariana Islands        NaN  580  \n",
       "3   18.2208   -66.5901               Puerto Rico        NaN  630  \n",
       "4   18.3358   -64.8963            Virgin Islands        NaN  850  "
      ],
      "text/html": "<div>\n<style scoped>\n    .dataframe tbody tr th:only-of-type {\n        vertical-align: middle;\n    }\n\n    .dataframe tbody tr th {\n        vertical-align: top;\n    }\n\n    .dataframe thead th {\n        text-align: right;\n    }\n</style>\n<table border=\"1\" class=\"dataframe\">\n  <thead>\n    <tr style=\"text-align: right;\">\n      <th></th>\n      <th>admin2</th>\n      <th>code3</th>\n      <th>confirmed</th>\n      <th>country_region</th>\n      <th>date</th>\n      <th>deaths</th>\n      <th>fips</th>\n      <th>iso2</th>\n      <th>iso3</th>\n      <th>latitude</th>\n      <th>longitude</th>\n      <th>province_state</th>\n      <th>recovered</th>\n      <th>uid</th>\n    </tr>\n  </thead>\n  <tbody>\n    <tr>\n      <th>0</th>\n      <td></td>\n      <td>16</td>\n      <td>0</td>\n      <td>US</td>\n      <td>2020-01-22</td>\n      <td>0</td>\n      <td>60</td>\n      <td>AS</td>\n      <td>ASM</td>\n      <td>-14.2710</td>\n      <td>-170.1320</td>\n      <td>American Samoa</td>\n      <td>NaN</td>\n      <td>16</td>\n    </tr>\n    <tr>\n      <th>1</th>\n      <td></td>\n      <td>316</td>\n      <td>0</td>\n      <td>US</td>\n      <td>2020-01-22</td>\n      <td>0</td>\n      <td>66</td>\n      <td>GU</td>\n      <td>GUM</td>\n      <td>13.4443</td>\n      <td>144.7937</td>\n      <td>Guam</td>\n      <td>NaN</td>\n      <td>316</td>\n    </tr>\n    <tr>\n      <th>2</th>\n      <td></td>\n      <td>580</td>\n      <td>0</td>\n      <td>US</td>\n      <td>2020-01-22</td>\n      <td>0</td>\n      <td>69</td>\n      <td>MP</td>\n      <td>MNP</td>\n      <td>15.0979</td>\n      <td>145.6739</td>\n      <td>Northern Mariana Islands</td>\n      <td>NaN</td>\n      <td>580</td>\n    </tr>\n    <tr>\n      <th>3</th>\n      <td></td>\n      <td>630</td>\n      <td>0</td>\n      <td>US</td>\n      <td>2020-01-22</td>\n      <td>0</td>\n      <td>72</td>\n      <td>PR</td>\n      <td>PRI</td>\n      <td>18.2208</td>\n      <td>-66.5901</td>\n      <td>Puerto Rico</td>\n      <td>NaN</td>\n      <td>630</td>\n    </tr>\n    <tr>\n      <th>4</th>\n      <td></td>\n      <td>850</td>\n      <td>0</td>\n      <td>US</td>\n      <td>2020-01-22</td>\n      <td>0</td>\n      <td>78</td>\n      <td>VI</td>\n      <td>VIR</td>\n      <td>18.3358</td>\n      <td>-64.8963</td>\n      <td>Virgin Islands</td>\n      <td>NaN</td>\n      <td>850</td>\n    </tr>\n  </tbody>\n</table>\n</div>"
     },
     "metadata": {},
     "execution_count": 8
    }
   ],
   "source": [
    "# JHU COVID-19 data sample\n",
    "df_covid_raw.limit(5).toPandas()"
   ]
  },
  {
   "cell_type": "code",
   "execution_count": 9,
   "metadata": {
    "editable": true
   },
   "outputs": [
    {
     "output_type": "stream",
     "name": "stdout",
     "text": [
      "Number of records    :   450597\nNumber of countries  :      177\nNumber of dates      :      129\n"
     ]
    }
   ],
   "source": [
    "# explore statistics\n",
    "covid_num_recs = df_covid_raw.count()\n",
    "covid_num_regions = df_covid_raw.select('country_region').distinct().count()\n",
    "covid_num_dates = df_covid_raw.select('date').distinct().count()\n",
    "print(f\"Number of records    : {covid_num_recs:8d}\")\n",
    "print(f\"Number of countries  : {covid_num_regions:8d}\")\n",
    "print(f\"Number of dates      : {covid_num_dates:8d}\")"
   ]
  },
  {
   "cell_type": "code",
   "execution_count": null,
   "metadata": {},
   "outputs": [],
   "source": []
  }
 ],
 "metadata": {
  "kernelspec": {
   "name": "python363jvsc74a57bd0173c13f3f1fc562cd602322984d14612f532ea11d42ff18e1e13b3637eeef0e3",
   "display_name": "Python 3.6.3 64-bit ('opensky': conda)"
  },
  "language_info": {
   "codemirror_mode": {
    "name": "ipython",
    "version": 3
   },
   "file_extension": ".py",
   "mimetype": "text/x-python",
   "name": "python",
   "nbconvert_exporter": "python",
   "pygments_lexer": "ipython3",
   "version": "3.6.3"
  }
 },
 "nbformat": 4,
 "nbformat_minor": 4
}